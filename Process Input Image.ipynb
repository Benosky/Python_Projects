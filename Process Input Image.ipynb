{
 "cells": [
  {
   "cell_type": "code",
   "execution_count": 5,
   "metadata": {},
   "outputs": [],
   "source": [
    "import pandas as pd\n",
    "import numpy as np"
   ]
  },
  {
   "cell_type": "code",
   "execution_count": 7,
   "metadata": {},
   "outputs": [
    {
     "data": {
      "text/plain": [
       "array([1, 2, 3])"
      ]
     },
     "execution_count": 7,
     "metadata": {},
     "output_type": "execute_result"
    }
   ],
   "source": [
    "a = np.array([1,2,3])\n",
    "#>>> np.reshape(a, 6)\n",
    "#array([1, 2, 3, 4, 5, 6])\n",
    "np.reshape(a, 3, order='C')\n",
    "#array([1, 4, 2, 5, 3, 6])"
   ]
  },
  {
   "cell_type": "code",
   "execution_count": null,
   "metadata": {},
   "outputs": [],
   "source": [
    "import cv2\n",
    "import numpy as np\n",
    "# read image\n",
    "path = \"/Users/benjamin/Desktop/python.png\"\n",
    "img = cv2.imread(path)#, cv2.IMREAD_UNCHANGED)\n",
    "#if img!=None:\n",
    "cv2.imshow(\"Resized image\", img)\n",
    "cv2.waitKey(0)\n",
    "cv2.destroyAllWindows()\n",
    "# # get dimensions of image\n",
    "# dimensions = img.shape\n",
    " \n",
    "# # height, width, number of channels in image\n",
    "# height = img.shape[0]\n",
    "# width = img.shape[1]\n",
    "# channels = img.shape[2]\n",
    " \n",
    "# print('Image Dimension    : ',dimensions)\n",
    "# print('Image Height       : ',height)\n",
    "# print('Image Width        : ',width)\n",
    "# print('Number of Channels : ',channels)"
   ]
  },
  {
   "cell_type": "code",
   "execution_count": null,
   "metadata": {},
   "outputs": [],
   "source": [
    "import cv2\n",
    "import numpy as np\n",
    "\n",
    "def process_inputs(input_image,height,width):\n",
    "    img = cv2.imread(input_image)\n",
    "    img = cv2.resize(img,(width,height))\n",
    "    #img = img.transpose(1,3,height,width)\n",
    "    img = np.transpose(img,(2,0,1))\n",
    "    #img = img.transpose(2,0,1)\n",
    "    #img = np.expand_dims(img, axis=0)\n",
    "    img = np.reshape(img,(1,3,height,width))\n",
    "    return img"
   ]
  },
  {
   "cell_type": "code",
   "execution_count": null,
   "metadata": {},
   "outputs": [],
   "source": []
  }
 ],
 "metadata": {
  "kernelspec": {
   "display_name": "Python 3",
   "language": "python",
   "name": "python3"
  },
  "language_info": {
   "codemirror_mode": {
    "name": "ipython",
    "version": 3
   },
   "file_extension": ".py",
   "mimetype": "text/x-python",
   "name": "python",
   "nbconvert_exporter": "python",
   "pygments_lexer": "ipython3",
   "version": "3.7.3"
  }
 },
 "nbformat": 4,
 "nbformat_minor": 2
}
