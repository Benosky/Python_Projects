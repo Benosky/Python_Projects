{
 "cells": [
  {
   "cell_type": "markdown",
   "metadata": {},
   "source": [
    "# Helpful Python Libraries"
   ]
  },
  {
   "cell_type": "code",
   "execution_count": 2,
   "metadata": {},
   "outputs": [
    {
     "data": {
      "text/html": [
       "<div>\n",
       "<style scoped>\n",
       "    .dataframe tbody tr th:only-of-type {\n",
       "        vertical-align: middle;\n",
       "    }\n",
       "\n",
       "    .dataframe tbody tr th {\n",
       "        vertical-align: top;\n",
       "    }\n",
       "\n",
       "    .dataframe thead th {\n",
       "        text-align: right;\n",
       "    }\n",
       "</style>\n",
       "<table border=\"1\" class=\"dataframe\">\n",
       "  <thead>\n",
       "    <tr style=\"text-align: right;\">\n",
       "      <th></th>\n",
       "      <th>a</th>\n",
       "      <th>b</th>\n",
       "      <th>c</th>\n",
       "      <th>d</th>\n",
       "      <th>e</th>\n",
       "    </tr>\n",
       "  </thead>\n",
       "  <tbody>\n",
       "    <tr>\n",
       "      <th>count</th>\n",
       "      <td>100.000000</td>\n",
       "      <td>100.000000</td>\n",
       "      <td>100.000000</td>\n",
       "      <td>100.000000</td>\n",
       "      <td>100.000000</td>\n",
       "    </tr>\n",
       "    <tr>\n",
       "      <th>mean</th>\n",
       "      <td>0.522961</td>\n",
       "      <td>0.533494</td>\n",
       "      <td>0.481151</td>\n",
       "      <td>0.516559</td>\n",
       "      <td>0.486790</td>\n",
       "    </tr>\n",
       "    <tr>\n",
       "      <th>std</th>\n",
       "      <td>0.294912</td>\n",
       "      <td>0.301768</td>\n",
       "      <td>0.289695</td>\n",
       "      <td>0.287408</td>\n",
       "      <td>0.299391</td>\n",
       "    </tr>\n",
       "    <tr>\n",
       "      <th>min</th>\n",
       "      <td>0.019691</td>\n",
       "      <td>0.011712</td>\n",
       "      <td>0.020240</td>\n",
       "      <td>0.007294</td>\n",
       "      <td>0.005713</td>\n",
       "    </tr>\n",
       "    <tr>\n",
       "      <th>25%</th>\n",
       "      <td>0.239229</td>\n",
       "      <td>0.238932</td>\n",
       "      <td>0.269251</td>\n",
       "      <td>0.275509</td>\n",
       "      <td>0.224535</td>\n",
       "    </tr>\n",
       "    <tr>\n",
       "      <th>50%</th>\n",
       "      <td>0.564171</td>\n",
       "      <td>0.566497</td>\n",
       "      <td>0.441004</td>\n",
       "      <td>0.593134</td>\n",
       "      <td>0.508360</td>\n",
       "    </tr>\n",
       "    <tr>\n",
       "      <th>75%</th>\n",
       "      <td>0.764419</td>\n",
       "      <td>0.794671</td>\n",
       "      <td>0.711349</td>\n",
       "      <td>0.752099</td>\n",
       "      <td>0.727623</td>\n",
       "    </tr>\n",
       "    <tr>\n",
       "      <th>max</th>\n",
       "      <td>0.996452</td>\n",
       "      <td>0.999467</td>\n",
       "      <td>0.996037</td>\n",
       "      <td>0.992648</td>\n",
       "      <td>0.986930</td>\n",
       "    </tr>\n",
       "  </tbody>\n",
       "</table>\n",
       "</div>"
      ],
      "text/plain": [
       "                a           b           c           d           e\n",
       "count  100.000000  100.000000  100.000000  100.000000  100.000000\n",
       "mean     0.522961    0.533494    0.481151    0.516559    0.486790\n",
       "std      0.294912    0.301768    0.289695    0.287408    0.299391\n",
       "min      0.019691    0.011712    0.020240    0.007294    0.005713\n",
       "25%      0.239229    0.238932    0.269251    0.275509    0.224535\n",
       "50%      0.564171    0.566497    0.441004    0.593134    0.508360\n",
       "75%      0.764419    0.794671    0.711349    0.752099    0.727623\n",
       "max      0.996452    0.999467    0.996037    0.992648    0.986930"
      ]
     },
     "execution_count": 2,
     "metadata": {},
     "output_type": "execute_result"
    }
   ],
   "source": [
    "import numpy as np\n",
    "import pandas as pd\n",
    "\n",
    "df=pd.DataFrame(np.random.rand(100, 5),columns=['a', 'b', 'c', 'd', 'e'])\n",
    "df.describe()"
   ]
  },
  {
   "cell_type": "code",
   "execution_count": 3,
   "metadata": {},
   "outputs": [],
   "source": [
    "#pandas_profiling.ProfileReport(df)"
   ]
  },
  {
   "cell_type": "code",
   "execution_count": 33,
   "metadata": {},
   "outputs": [
    {
     "data": {
      "text/html": [
       "<div>\n",
       "<style scoped>\n",
       "    .dataframe tbody tr th:only-of-type {\n",
       "        vertical-align: middle;\n",
       "    }\n",
       "\n",
       "    .dataframe tbody tr th {\n",
       "        vertical-align: top;\n",
       "    }\n",
       "\n",
       "    .dataframe thead th {\n",
       "        text-align: right;\n",
       "    }\n",
       "</style>\n",
       "<table border=\"1\" class=\"dataframe\">\n",
       "  <thead>\n",
       "    <tr style=\"text-align: right;\">\n",
       "      <th></th>\n",
       "      <th>type</th>\n",
       "    </tr>\n",
       "  </thead>\n",
       "  <tbody>\n",
       "    <tr>\n",
       "      <th>a</th>\n",
       "      <td>NUM</td>\n",
       "    </tr>\n",
       "    <tr>\n",
       "      <th>b</th>\n",
       "      <td>NUM</td>\n",
       "    </tr>\n",
       "    <tr>\n",
       "      <th>c</th>\n",
       "      <td>NUM</td>\n",
       "    </tr>\n",
       "    <tr>\n",
       "      <th>d</th>\n",
       "      <td>NUM</td>\n",
       "    </tr>\n",
       "    <tr>\n",
       "      <th>e</th>\n",
       "      <td>NUM</td>\n",
       "    </tr>\n",
       "  </tbody>\n",
       "</table>\n",
       "</div>"
      ],
      "text/plain": [
       "  type\n",
       "a  NUM\n",
       "b  NUM\n",
       "c  NUM\n",
       "d  NUM\n",
       "e  NUM"
      ]
     },
     "execution_count": 33,
     "metadata": {},
     "output_type": "execute_result"
    }
   ],
   "source": [
    "import pandas_profiling\n",
    "#df.profile_report(style={'full_width':True})\n",
    "\n",
    "#To retrieve the list of variables which are rejected due to high correlation:\n",
    "profile = pandas_profiling.ProfileReport(df) #,style={'full_width':True})\n",
    "rejected_variables = profile.get_rejected_variables(threshold=0.9)\n",
    "\n",
    "#To retrieve the list of variables with high skewness:\n",
    "descr = profile.get_description()\n",
    "skewness_df = pd.DataFrame(descr['variables']['skewness']) \n",
    "\n",
    "skewed_variables = skewness_df.loc[abs(skewness_df['skewness']) > 0.04]\n",
    "descr #skewed_variables\n",
    "\n",
    "#mean = pd.DataFrame(descr['variables'][\"mean\"]) \n",
    "typ = pd.DataFrame(descr['variables'][\"type\"]) \n",
    "#mean.columns.values\n",
    "typ"
   ]
  },
  {
   "cell_type": "code",
   "execution_count": 8,
   "metadata": {},
   "outputs": [],
   "source": [
    "#profile = pandas_profiling.ProfileReport(df)\n",
    "profile.to_file(outputfile=\"output2.html\")"
   ]
  },
  {
   "cell_type": "code",
   "execution_count": null,
   "metadata": {},
   "outputs": [],
   "source": []
  }
 ],
 "metadata": {
  "kernelspec": {
   "display_name": "Python 3",
   "language": "python",
   "name": "python3"
  },
  "language_info": {
   "codemirror_mode": {
    "name": "ipython",
    "version": 3
   },
   "file_extension": ".py",
   "mimetype": "text/x-python",
   "name": "python",
   "nbconvert_exporter": "python",
   "pygments_lexer": "ipython3",
   "version": "3.7.3"
  }
 },
 "nbformat": 4,
 "nbformat_minor": 2
}
