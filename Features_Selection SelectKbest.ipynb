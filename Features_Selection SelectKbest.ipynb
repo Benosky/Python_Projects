{
 "cells": [
  {
   "cell_type": "markdown",
   "metadata": {},
   "source": [
    "### SelectKbest Features_Selection"
   ]
  },
  {
   "cell_type": "code",
   "execution_count": 24,
   "metadata": {},
   "outputs": [
    {
     "name": "stdout",
     "output_type": "stream",
     "text": [
      "Target Names : ['setosa', 'versicolor', 'virginica']\n",
      "Original Features Names : ['sepal length (cm)', 'sepal width (cm)', 'petal length (cm)', 'petal width (cm)']\n",
      "Original Feature Shape: (150, 4)\n",
      "New Features Shape: (150, 2)\n",
      "Selected feature names : ['petal length (cm)', 'petal width (cm)']\n"
     ]
    }
   ],
   "source": [
    "from sklearn.datasets import load_iris\n",
    "from sklearn.feature_selection import SelectKBest\n",
    "from sklearn.feature_selection import chi2\n",
    "import pandas as pd\n",
    "iris = load_iris()\n",
    "\n",
    "print(\"Target Names :\",list(iris.target_names))\n",
    "print(\"Original Features Names :\",list(iris.feature_names))\n",
    "\n",
    "#Load iris data to a pandas dataframe\n",
    "X_df = pd.DataFrame(iris.data, columns=iris.feature_names)\n",
    "y_df = pd.DataFrame(iris.target)\n",
    "\n",
    "print(\"Original Feature Shape:\",X_df.shape)\n",
    "X_new = SelectKBest(chi2, k=2).fit_transform(X_df, y_df)\n",
    "print(\"New Features Shape:\",X_new.shape)\n",
    "\n",
    "model= SelectKBest(chi2, k=2).fit(X_df,y_df)\n",
    "\n",
    "Selected_feature_names= X_df.columns[model.get_support()]\n",
    "\n",
    "print(\"Selected feature names :\",list(Selected_feature_names))"
   ]
  },
  {
   "cell_type": "code",
   "execution_count": null,
   "metadata": {},
   "outputs": [],
   "source": []
  }
 ],
 "metadata": {
  "kernelspec": {
   "display_name": "Python 3",
   "language": "python",
   "name": "python3"
  },
  "language_info": {
   "codemirror_mode": {
    "name": "ipython",
    "version": 3
   },
   "file_extension": ".py",
   "mimetype": "text/x-python",
   "name": "python",
   "nbconvert_exporter": "python",
   "pygments_lexer": "ipython3",
   "version": "3.7.3"
  }
 },
 "nbformat": 4,
 "nbformat_minor": 2
}
